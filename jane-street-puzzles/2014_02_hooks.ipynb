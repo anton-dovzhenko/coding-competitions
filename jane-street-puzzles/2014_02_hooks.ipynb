{
 "cells": [
  {
   "cell_type": "code",
   "execution_count": 1,
   "id": "97384b78-ced7-4c34-bb3a-1e5e048632e7",
   "metadata": {},
   "outputs": [
    {
     "name": "stdout",
     "output_type": "stream",
     "text": [
      "(CVXPY) May 07 10:34:55 PM: Encountered unexpected exception importing solver GLOP:\n",
      "RuntimeError('Unrecognized new version of ortools (9.11.4210). Expected < 9.10.0. Please open a feature request on cvxpy to enable support for this version.')\n",
      "(CVXPY) May 07 10:34:55 PM: Encountered unexpected exception importing solver PDLP:\n",
      "RuntimeError('Unrecognized new version of ortools (9.11.4210). Expected < 9.10.0. Please open a feature request on cvxpy to enable support for this version.')\n"
     ]
    }
   ],
   "source": [
    "import cvxpy as cp\n",
    "import numpy as np"
   ]
  },
  {
   "cell_type": "code",
   "execution_count": 2,
   "id": "fe00d243-5e9a-44bc-aed2-a859828bdd9f",
   "metadata": {},
   "outputs": [],
   "source": [
    "b1 = np.array([26, 42, 11, 22, 42, 36, 29, 32, 45])\n",
    "b2 = np.array([31, 19, 45, 16, 5, 47, 28, 49, 45])\n",
    "A = np.array([\n",
    "    [1, 2, 3, 4, 5, 6, 7, 8, 9],\n",
    "    [2, 2, 3, 4, 5, 6, 7, 8, 9],\n",
    "    [3, 3, 3, 4, 5, 6, 7, 8, 9],\n",
    "    [4, 4, 4, 4, 5, 6, 7, 8, 9],\n",
    "    [5, 5, 5, 5, 5, 6, 7, 8, 9],\n",
    "    [6, 6, 6, 6, 6, 6, 7, 8, 9],\n",
    "    [7, 7, 7, 7, 7, 7, 7, 8, 9],\n",
    "    [8, 8, 8, 8, 8, 8, 8, 8, 9],\n",
    "    [9, 9, 9, 9, 9, 9, 9, 9, 9]])"
   ]
  },
  {
   "cell_type": "code",
   "execution_count": 3,
   "id": "429f3b20-6b5b-4de9-b472-f3bc4273f001",
   "metadata": {},
   "outputs": [
    {
     "data": {
      "text/plain": [
       "0.0"
      ]
     },
     "execution_count": 3,
     "metadata": {},
     "output_type": "execute_result"
    }
   ],
   "source": [
    "X = cp.Variable((9, 9), boolean=True)\n",
    "constraints = [\n",
    "    cp.sum(cp.multiply(A, X), axis=0) == b1,\n",
    "    cp.sum(cp.multiply(A, X), axis=1) == b2\n",
    "]\n",
    "objective = cp.Minimize(0)\n",
    "problem = cp.Problem(objective, constraints)\n",
    "problem.solve()"
   ]
  },
  {
   "cell_type": "code",
   "execution_count": 4,
   "id": "4e173bd3-3c9a-4fbf-9481-6c39212236ca",
   "metadata": {},
   "outputs": [
    {
     "data": {
      "text/plain": [
       "array([[1., 0., 3., 0., 0., 6., 7., 0., 9.],\n",
       "       [2., 2., 3., 0., 5., 6., 7., 8., 9.],\n",
       "       [3., 0., 0., 0., 0., 0., 0., 8., 0.],\n",
       "       [4., 4., 4., 4., 0., 6., 0., 0., 0.],\n",
       "       [5., 5., 5., 5., 0., 6., 7., 0., 9.],\n",
       "       [0., 0., 6., 0., 0., 6., 7., 8., 9.],\n",
       "       [7., 0., 7., 7., 0., 0., 0., 8., 0.],\n",
       "       [0., 8., 8., 0., 0., 8., 0., 8., 0.],\n",
       "       [9., 0., 9., 0., 0., 9., 0., 9., 9.]])"
      ]
     },
     "execution_count": 4,
     "metadata": {},
     "output_type": "execute_result"
    }
   ],
   "source": [
    "(A * X.value).transpose()"
   ]
  },
  {
   "cell_type": "code",
   "execution_count": null,
   "id": "79386e2a-04d6-4c68-b6b3-ac21eef1d408",
   "metadata": {},
   "outputs": [],
   "source": []
  }
 ],
 "metadata": {
  "kernelspec": {
   "display_name": "Python 3 (ipykernel)",
   "language": "python",
   "name": "python3"
  },
  "language_info": {
   "codemirror_mode": {
    "name": "ipython",
    "version": 3
   },
   "file_extension": ".py",
   "mimetype": "text/x-python",
   "name": "python",
   "nbconvert_exporter": "python",
   "pygments_lexer": "ipython3",
   "version": "3.10.1"
  }
 },
 "nbformat": 4,
 "nbformat_minor": 5
}
