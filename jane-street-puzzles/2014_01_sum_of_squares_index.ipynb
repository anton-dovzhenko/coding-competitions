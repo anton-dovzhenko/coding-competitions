{
 "cells": [
  {
   "cell_type": "code",
   "execution_count": 1,
   "id": "4ba83e49-f075-4848-8844-cd6b10ae40b6",
   "metadata": {},
   "outputs": [
    {
     "name": "stdout",
     "output_type": "stream",
     "text": [
      "(CVXPY) May 18 12:25:57 AM: Encountered unexpected exception importing solver GLOP:\n",
      "RuntimeError('Unrecognized new version of ortools (9.11.4210). Expected < 9.10.0. Please open a feature request on cvxpy to enable support for this version.')\n",
      "(CVXPY) May 18 12:25:57 AM: Encountered unexpected exception importing solver PDLP:\n",
      "RuntimeError('Unrecognized new version of ortools (9.11.4210). Expected < 9.10.0. Please open a feature request on cvxpy to enable support for this version.')\n"
     ]
    }
   ],
   "source": [
    "import cvxpy as cp\n",
    "import numpy as np"
   ]
  },
  {
   "cell_type": "code",
   "execution_count": 2,
   "id": "fb0b769f-7173-4801-9c6f-4c1980942fde",
   "metadata": {},
   "outputs": [],
   "source": [
    "scale = np.array([10000, 1000, 100, 10, 1])\n",
    "B1 = np.array([1, 2, 3, 4, 5])\n",
    "B2 = np.array([6, 7, 8, 9, 10])\n",
    "\n",
    "X = cp.Variable((5, 5), integer=True)\n",
    "K1 = cp.Variable(5, integer=True)\n",
    "K2 = cp.Variable(5, integer=True)\n",
    "constraints = [X >= 0, \n",
    "               X <= 9,\n",
    "               K1 >= 1,\n",
    "               K1 <= 99999,\n",
    "               K2 >= 1,\n",
    "               K2 <= 22222,\n",
    "               X[0, 0] == 9,\n",
    "               X[4, 4] == 0,\n",
    "               X @ scale == cp.multiply(K1, B1),\n",
    "               X.T @ scale == cp.multiply(K2, B2) ]\n"
   ]
  },
  {
   "cell_type": "code",
   "execution_count": 3,
   "id": "ae3cb30c-d148-4b11-b189-71ab77d7a3a5",
   "metadata": {},
   "outputs": [
    {
     "data": {
      "text/plain": [
       "np.float64(205.0)"
      ]
     },
     "execution_count": 3,
     "metadata": {},
     "output_type": "execute_result"
    }
   ],
   "source": [
    "objective = cp.Maximize(cp.sum(X))\n",
    "problem = cp.Problem(objective, constraints)\n",
    "problem.solve()"
   ]
  },
  {
   "cell_type": "code",
   "execution_count": 4,
   "id": "34f6ed73-c7de-4232-a32a-f08298641cbd",
   "metadata": {},
   "outputs": [
    {
     "name": "stdout",
     "output_type": "stream",
     "text": [
      "[[9. 8. 9. 9. 9.]\n",
      " [9. 9. 9. 9. 8.]\n",
      " [7. 9. 8. 9. 9.]\n",
      " [9. 9. 8. 9. 6.]\n",
      " [8. 9. 8. 9. 0.]] [98999. 49999. 26633. 24974. 17978.] [16633. 12857. 12486. 11111.  9896.]\n"
     ]
    }
   ],
   "source": [
    "print(X.value, K1.value, K2.value)"
   ]
  },
  {
   "cell_type": "code",
   "execution_count": null,
   "id": "93b992fb-b0aa-4d55-b5f8-e54bc35a33aa",
   "metadata": {},
   "outputs": [],
   "source": []
  }
 ],
 "metadata": {
  "kernelspec": {
   "display_name": "Python 3 (ipykernel)",
   "language": "python",
   "name": "python3"
  },
  "language_info": {
   "codemirror_mode": {
    "name": "ipython",
    "version": 3
   },
   "file_extension": ".py",
   "mimetype": "text/x-python",
   "name": "python",
   "nbconvert_exporter": "python",
   "pygments_lexer": "ipython3",
   "version": "3.10.1"
  }
 },
 "nbformat": 4,
 "nbformat_minor": 5
}
